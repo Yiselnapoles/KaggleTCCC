{
 "cells": [
  {
   "cell_type": "code",
   "execution_count": 1,
   "metadata": {
    "collapsed": true
   },
   "outputs": [],
   "source": [
    "import matplotlib\n",
    "%matplotlib inline"
   ]
  },
  {
   "cell_type": "code",
   "execution_count": 2,
   "metadata": {
    "collapsed": false
   },
   "outputs": [],
   "source": [
    "import pandas as pd\n",
    "data = pd.DataFrame(data={'Precio': [100, 150, 230, 255, 300, 290, 310, 295, 298, 350],\n",
    "                          'Metros': [490, 600, 650, 800, 900, 1100, 1400, 1200, 800, 450],\n",
    "                          'Habitaciones': [1,2,3,3,4,1,2,3,2,2]})\n",
    "\n",
    "y = data.Precio\n",
    "X = data[['Metros', 'Habitaciones']]"
   ]
  },
  {
   "cell_type": "code",
   "execution_count": 3,
   "metadata": {
    "collapsed": false
   },
   "outputs": [
    {
     "data": {
      "text/plain": [
       "0    100\n",
       "1    150\n",
       "2    230\n",
       "3    255\n",
       "4    300\n",
       "5    290\n",
       "6    310\n",
       "7    295\n",
       "8    298\n",
       "9    350\n",
       "Name: Precio, dtype: int64"
      ]
     },
     "execution_count": 3,
     "metadata": {},
     "output_type": "execute_result"
    }
   ],
   "source": [
    "y"
   ]
  },
  {
   "cell_type": "code",
   "execution_count": 4,
   "metadata": {
    "collapsed": false
   },
   "outputs": [],
   "source": [
    "import numpy as np\n",
    "def H(x, w):\n",
    "    if len(x.shape) > 1:\n",
    "        return  np.sum(x*np.array(w), axis=1)\n",
    "    else:\n",
    "        return x*np.array(w)\n",
    "    \n",
    "def H(x, w):\n",
    "    a = x*np.array(w)\n",
    "    if len(x.shape) > 1:\n",
    "        a = np.sum(a, axis=1)\n",
    "    \n",
    "    return a"
   ]
  },
  {
   "cell_type": "code",
   "execution_count": 5,
   "metadata": {
    "collapsed": false
   },
   "outputs": [
    {
     "data": {
      "text/html": [
       "<div>\n",
       "<table border=\"1\" class=\"dataframe\">\n",
       "  <thead>\n",
       "    <tr style=\"text-align: right;\">\n",
       "      <th></th>\n",
       "      <th>Metros</th>\n",
       "      <th>Habitaciones</th>\n",
       "      <th>Prediccion</th>\n",
       "      <th>Error</th>\n",
       "    </tr>\n",
       "  </thead>\n",
       "  <tbody>\n",
       "    <tr>\n",
       "      <th>0</th>\n",
       "      <td>490</td>\n",
       "      <td>1</td>\n",
       "      <td>98.6</td>\n",
       "      <td>1.4</td>\n",
       "    </tr>\n",
       "    <tr>\n",
       "      <th>1</th>\n",
       "      <td>600</td>\n",
       "      <td>2</td>\n",
       "      <td>121.2</td>\n",
       "      <td>28.8</td>\n",
       "    </tr>\n",
       "    <tr>\n",
       "      <th>2</th>\n",
       "      <td>650</td>\n",
       "      <td>3</td>\n",
       "      <td>131.8</td>\n",
       "      <td>98.2</td>\n",
       "    </tr>\n",
       "    <tr>\n",
       "      <th>3</th>\n",
       "      <td>800</td>\n",
       "      <td>3</td>\n",
       "      <td>161.8</td>\n",
       "      <td>93.2</td>\n",
       "    </tr>\n",
       "    <tr>\n",
       "      <th>4</th>\n",
       "      <td>900</td>\n",
       "      <td>4</td>\n",
       "      <td>182.4</td>\n",
       "      <td>117.6</td>\n",
       "    </tr>\n",
       "    <tr>\n",
       "      <th>5</th>\n",
       "      <td>1100</td>\n",
       "      <td>1</td>\n",
       "      <td>220.6</td>\n",
       "      <td>69.4</td>\n",
       "    </tr>\n",
       "    <tr>\n",
       "      <th>6</th>\n",
       "      <td>1400</td>\n",
       "      <td>2</td>\n",
       "      <td>281.2</td>\n",
       "      <td>28.8</td>\n",
       "    </tr>\n",
       "    <tr>\n",
       "      <th>7</th>\n",
       "      <td>1200</td>\n",
       "      <td>3</td>\n",
       "      <td>241.8</td>\n",
       "      <td>53.2</td>\n",
       "    </tr>\n",
       "    <tr>\n",
       "      <th>8</th>\n",
       "      <td>800</td>\n",
       "      <td>2</td>\n",
       "      <td>161.2</td>\n",
       "      <td>136.8</td>\n",
       "    </tr>\n",
       "    <tr>\n",
       "      <th>9</th>\n",
       "      <td>450</td>\n",
       "      <td>2</td>\n",
       "      <td>91.2</td>\n",
       "      <td>258.8</td>\n",
       "    </tr>\n",
       "  </tbody>\n",
       "</table>\n",
       "</div>"
      ],
      "text/plain": [
       "   Metros  Habitaciones  Prediccion  Error\n",
       "0     490             1        98.6    1.4\n",
       "1     600             2       121.2   28.8\n",
       "2     650             3       131.8   98.2\n",
       "3     800             3       161.8   93.2\n",
       "4     900             4       182.4  117.6\n",
       "5    1100             1       220.6   69.4\n",
       "6    1400             2       281.2   28.8\n",
       "7    1200             3       241.8   53.2\n",
       "8     800             2       161.2  136.8\n",
       "9     450             2        91.2  258.8"
      ]
     },
     "execution_count": 5,
     "metadata": {},
     "output_type": "execute_result"
    }
   ],
   "source": [
    "X['Prediccion'] = H(X[['Metros', 'Habitaciones']], [0.2, 0.6])\n",
    "X['Error'] = abs(X['Prediccion'] - y)\n",
    "X"
   ]
  },
  {
   "cell_type": "code",
   "execution_count": 6,
   "metadata": {
    "collapsed": false
   },
   "outputs": [
    {
     "data": {
      "text/plain": [
       "17172.732000000004"
      ]
     },
     "execution_count": 6,
     "metadata": {},
     "output_type": "execute_result"
    }
   ],
   "source": [
    "def J(X, y, w):\n",
    "    return (0.5 / X.shape[0]) * sum((H(X,w) -y) ** 2)\n",
    "\n",
    "J(X[['Metros', 'Habitaciones']], y, [0.1, 0.2])"
   ]
  },
  {
   "cell_type": "code",
   "execution_count": 7,
   "metadata": {
    "collapsed": false
   },
   "outputs": [
    {
     "name": "stdout",
     "output_type": "stream",
     "text": [
      "Mejora encontrada: 53693.308499 (w=-0.069809)\n",
      "Mejora encontrada: 51657.960935 (w=-0.062513)\n",
      "Mejora encontrada: 44628.519291 (w=-0.036046)\n",
      "Mejora encontrada: 25172.036490 (w=0.052362)\n",
      "Mejora encontrada: 14352.605203 (w=0.120888)\n",
      "Mejora encontrada: 8128.819971 (w=0.178583)\n",
      "Mejora encontrada: 4727.048020 (w=0.231799)\n",
      "Mejora encontrada: 3666.329265 (w=0.301497)\n",
      "Mejora encontrada: 3595.343405 (w=0.293954)\n",
      "Mejora encontrada: 3569.800048 (w=0.284757)\n",
      "Mejora encontrada: 3569.388563 (w=0.286251)\n",
      "Mejora encontrada: 3569.329515 (w=0.285955)\n",
      "Mejora encontrada: 3569.325418 (w=0.285829)\n",
      "Mejora encontrada: 3569.325218 (w=0.285849)\n"
     ]
    },
    {
     "data": {
      "image/png": "[encoded data removed]",
      "text/plain": [
       "<matplotlib.figure.Figure at 0x7fbb2ff45b38>"
      ]
     },
     "metadata": {},
     "output_type": "display_data"
    }
   ],
   "source": [
    "import random\n",
    "import matplotlib.pyplot as plt\n",
    "\n",
    "ax = plt.gca()\n",
    "ax.set_ylim([min(0, y.min() - y.std()), y.max() + y.std()])\n",
    "ax.set_xlim([X.Metros.min() - X.Metros.std(), X.Metros.max() + X.Metros.std()])\n",
    "\n",
    "j_min = float('inf')\n",
    "best_w = 0\n",
    "history = []\n",
    "\n",
    "num_iter=10000\n",
    "for it in range(0, num_iter):\n",
    "    cand_w = best_w + random.uniform(-0.1, 0.1)\n",
    "    j = J(X.Metros, y, [cand_w])\n",
    "    \n",
    "    if j < j_min:\n",
    "        print(\"Mejora encontrada: %f (w=%f)\" % (j, cand_w))\n",
    "        j_min = j\n",
    "        best_w = cand_w\n",
    "        history.append((cand_w))\n",
    "\n",
    "plt.scatter(X.Metros, y, marker='+', color='r', s=50)\n",
    "for i, (w) in enumerate(history[:-1]):\n",
    "    X_plot = np.linspace(ax.get_xlim()[0], ax.get_xlim()[1], 100)\n",
    "    gray = 1 - (i/(len(history)-1))\n",
    "    \n",
    "    plt.plot(X_plot, X_plot*w, '-', color=str(gray))\n",
    "    \n",
    "X_plot = np.linspace(ax.get_xlim()[0], ax.get_xlim()[1], 100)\n",
    "plt.plot(X_plot, X_plot*best_w, '-')\n",
    "plt.show()"
   ]
  },
  {
   "cell_type": "code",
   "execution_count": 18,
   "metadata": {
    "collapsed": true
   },
   "outputs": [],
   "source": [
    "import numpy as np\n",
    "import random\n",
    "import sys\n",
    "\n",
    "class RegresionLineal:\n",
    "    \n",
    "    def __init__(self, learning_rate=100):\n",
    "        '''\n",
    "        Inicialización del modelo.\n",
    "        Parametros:\n",
    "          - learning_rate: define el desplazamiento máximo sobre los pesos en cada iteración.\n",
    "        '''\n",
    "        self.learning_rate = learning_rate\n",
    "    \n",
    "    def _H(self, X, w):\n",
    "        '''\n",
    "        Establece la hipótesis de la regresión lineal. Devuelve la evaluación de dicha hipótesis.\n",
    "        '''\n",
    "        a = X*np.array(w)\n",
    "        if len(X.shape) > 1:\n",
    "            a = np.sum(a, axis=1)\n",
    "\n",
    "        return a\n",
    "\n",
    "    def _J(self, X, y, w):\n",
    "        '''\n",
    "        Establece la función de coste y devuelve la evaluación de dicha función de coste\n",
    "        '''\n",
    "        return (0.5 / X.shape[0]) * sum((self._H(X,w) -y) ** 2)\n",
    "    \n",
    "    def fit(self, X, y, num_iter=100, verbose=True, plot=False):\n",
    "        '''\n",
    "        Lleva a cabo la búsqueda de los mejores pesos dado los datos de entrada X y la \n",
    "        variable respuesta y.\n",
    "        Parámetros:\n",
    "          - X: datos de entrada en formato de tabla. Cada fila corresponde a una muestra y cada columna a un atributo.\n",
    "          - y: variable de respuesta. Debe contener tantos elementos como filas tiene la entrada.\n",
    "          - num_iter: número de iteraciones que queremos ejecutar de algoritmo de búsqueda.\n",
    "          - verbose: si es True imprimirá por pantalla mensajes sobre el progreso\n",
    "          - plot: si es True mostrará un gráfico de la línea de regresión. Solo en el caso de tener un solo atributo.\n",
    "        '''\n",
    "        \n",
    "        # Comprobamos que el número de filas de la entrada corresponde \n",
    "        # con el número  de elementos de la variable de respuesta\n",
    "        if len(X) != len(y):\n",
    "            raise Exception(\"El número de filas de X es diferente al de y\")\n",
    "        \n",
    "        # Usaremos esta lista para guardar el progreso del ajuste\n",
    "        self.history = []\n",
    "\n",
    "        # Establecemos el valor del coste al inicio lo mayor posible    \n",
    "        j_min = float(\"inf\")\n",
    "        \n",
    "        # Inicializamos los pesos\n",
    "        num_attr = 1 if len(X.shape) == 1 else X.shape[0]\n",
    "        self.w = [.0] * num_attr\n",
    "        current_w = [.0] * num_attr          \n",
    "        \n",
    "        for it in range(0,num_iter):\n",
    "            # actualizamos los pesos aplicando el desfase de los pesos\n",
    "            for iattr in range(num_attr):\n",
    "                current_w[iattr] = self.w[iattr] + \n",
    "                random.uniform(-self.learning_rate,self.learning_rate)\n",
    "            \n",
    "            # calculamos el coste con los nuevos pesos\n",
    "            j = self._J(X, y, current_w)\n",
    "\n",
    "            # si encontramos mejora, actualizamos el los pesos del modelo y guardamos \n",
    "            # la mejora en el histórico\n",
    "            if j < j_min:\n",
    "                if verbose:\n",
    "                    print (\"Mejora: %f (%s)\" % (j, current_w))\n",
    "                    \n",
    "                j_min = j\n",
    "                self.w = current_w[:]\n",
    "                self.history.append(current_w[:])\n",
    "            \n",
    "        # si se pedido mostrar el gráfico del progreso y tenemos un solo atributo \n",
    "        # pintamos las rectas encontradas      \n",
    "        if plot and num_attr == 1:\n",
    "            axes = plt.gca()\n",
    "            axes.set_ylim([y.min() - y.std(), y.max() + y.std()])\n",
    "            axes.set_xlim([X.min() - X.std(), X.max() + X.std()])\n",
    "\n",
    "            plt.scatter(X, y, marker='+', color='r', s=200)\n",
    "            \n",
    "            for i, w in enumerate(self.history[:-1]):\n",
    "                X_plot = np.linspace(axes.get_xlim()[0],axes.get_xlim()[1],100)\n",
    "                gray = 1-i/(len(self.history)-1)\n",
    "                plt.plot(X_plot, self._H(X_plot, w), '-', color=str(gray))\n",
    "\n",
    "\n",
    "            # Add correlation line\n",
    "            X_plot = np.linspace(axes.get_xlim()[0],axes.get_xlim()[1],100)\n",
    "            plt.plot(X_plot, self._H(X_plot, self.w), '-', linewidth=2)\n",
    "\n",
    "            \n",
    "            plt.show()\n",
    "            \n",
    "            \n",
    "    def predict(self, X):\n",
    "        '''\n",
    "        Realiza la predicción para los datos de entrada X\n",
    "        '''\n",
    "        raise Exception(\"No implement\")\n"
   ]
  },
  {
   "cell_type": "code",
   "execution_count": 19,
   "metadata": {
    "collapsed": false
   },
   "outputs": [],
   "source": [
    "rl = RegresionLineal()\n",
    "rl.fit(X, y)"
   ]
  },
  {
   "cell_type": "code",
   "execution_count": 20,
   "metadata": {
    "collapsed": false
   },
   "outputs": [
    {
     "data": {
      "text/plain": [
       "{'history': [], 'learning_rate': 100}"
      ]
     },
     "execution_count": 20,
     "metadata": {},
     "output_type": "execute_result"
    }
   ],
   "source": [
    "rl.__dict__"
   ]
  },
  {
   "cell_type": "code",
   "execution_count": null,
   "metadata": {
    "collapsed": true
   },
   "outputs": [],
   "source": []
  }
 ],
 "metadata": {
  "kernelspec": {
   "display_name": "Python 3",
   "language": "python",
   "name": "python3"
  },
  "language_info": {
   "codemirror_mode": {
    "name": "ipython",
    "version": 3
   },
   "file_extension": ".py",
   "mimetype": "text/x-python",
   "name": "python",
   "nbconvert_exporter": "python",
   "pygments_lexer": "ipython3",
   "version": "3.4.3"
  }
 },
 "nbformat": 4,
 "nbformat_minor": 0
}
