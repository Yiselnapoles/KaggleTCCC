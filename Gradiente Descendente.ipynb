{
 "cells": [
  {
   "cell_type": "markdown",
   "metadata": {},
   "source": [
    "## Gradiente descendente"
   ]
  },
  {
   "cell_type": "code",
   "execution_count": 1,
   "metadata": {},
   "outputs": [],
   "source": [
    "import matplotlib\n",
    "%matplotlib inline\n",
    "from matplotlib import pyplot as plt"
   ]
  },
  {
   "cell_type": "code",
   "execution_count": 2,
   "metadata": {},
   "outputs": [
    {
     "data": {
      "text/html": [
       "<div>\n",
       "<table border=\"1\" class=\"dataframe\">\n",
       "  <thead>\n",
       "    <tr style=\"text-align: right;\">\n",
       "      <th></th>\n",
       "      <th>Metros</th>\n",
       "      <th>Habitaciones</th>\n",
       "    </tr>\n",
       "  </thead>\n",
       "  <tbody>\n",
       "    <tr>\n",
       "      <th>0</th>\n",
       "      <td>490</td>\n",
       "      <td>1</td>\n",
       "    </tr>\n",
       "    <tr>\n",
       "      <th>1</th>\n",
       "      <td>600</td>\n",
       "      <td>2</td>\n",
       "    </tr>\n",
       "    <tr>\n",
       "      <th>2</th>\n",
       "      <td>650</td>\n",
       "      <td>1</td>\n",
       "    </tr>\n",
       "    <tr>\n",
       "      <th>3</th>\n",
       "      <td>800</td>\n",
       "      <td>3</td>\n",
       "    </tr>\n",
       "    <tr>\n",
       "      <th>4</th>\n",
       "      <td>900</td>\n",
       "      <td>3</td>\n",
       "    </tr>\n",
       "    <tr>\n",
       "      <th>5</th>\n",
       "      <td>1100</td>\n",
       "      <td>4</td>\n",
       "    </tr>\n",
       "    <tr>\n",
       "      <th>6</th>\n",
       "      <td>1400</td>\n",
       "      <td>3</td>\n",
       "    </tr>\n",
       "    <tr>\n",
       "      <th>7</th>\n",
       "      <td>1600</td>\n",
       "      <td>3</td>\n",
       "    </tr>\n",
       "    <tr>\n",
       "      <th>8</th>\n",
       "      <td>1800</td>\n",
       "      <td>2</td>\n",
       "    </tr>\n",
       "    <tr>\n",
       "      <th>9</th>\n",
       "      <td>1900</td>\n",
       "      <td>4</td>\n",
       "    </tr>\n",
       "    <tr>\n",
       "      <th>10</th>\n",
       "      <td>2200</td>\n",
       "      <td>4</td>\n",
       "    </tr>\n",
       "  </tbody>\n",
       "</table>\n",
       "</div>"
      ],
      "text/plain": [
       "    Metros  Habitaciones\n",
       "0      490             1\n",
       "1      600             2\n",
       "2      650             1\n",
       "3      800             3\n",
       "4      900             3\n",
       "5     1100             4\n",
       "6     1400             3\n",
       "7     1600             3\n",
       "8     1800             2\n",
       "9     1900             4\n",
       "10    2200             4"
      ]
     },
     "execution_count": 2,
     "metadata": {},
     "output_type": "execute_result"
    }
   ],
   "source": [
    "import pandas as pd\n",
    "data = pd.DataFrame(data={\"Precio\": [100,150,230,255,300,290,310,295,315,298,294],\n",
    "                          \"Metros\": [490,600,650,800,900,1100,1400,1600,1800,1900,2200],\n",
    "                          \"Habitaciones\": [1,2,1,3,3,4,3,3,2,4,4]})\n",
    "\n",
    "y = data.Precio\n",
    "X = data[['Metros', 'Habitaciones']]\n",
    "X"
   ]
  },
  {
   "cell_type": "markdown",
   "metadata": {},
   "source": [
    "En nuestro anterior calse la actualización de los coeficiente la haciamos aleatoriamente entre un rango de valores definidos por el parámetro *learning_rate*. \n",
    "\n",
    "En el caso de algoritmo de gradiente descendente esta actualización se realiza usando la derivada parcial de la función de coste, que a la vez depende de la hipotesis.\n",
    "\n",
    "Base a crear una clase BaseEstimator que nos sirva como base de diferentes estimadores"
   ]
  },
  {
   "cell_type": "code",
   "execution_count": 14,
   "metadata": {},
   "outputs": [],
   "source": [
    "import numpy as np\n",
    "import random\n",
    "import sys\n",
    "\n",
    "class BaseRegresionLineal:\n",
    "    \n",
    "    def __init__(self, learning_rate=100, fit_intercept=False):\n",
    "        '''\n",
    "        Inicialización del modelo.\n",
    "        Parametros:\n",
    "          - learning_rate: define el desplazamiento máximo sobre los pesos en cada iteración.\n",
    "        '''\n",
    "        self.learning_rate = learning_rate\n",
    "        self.fit_intercept = fit_intercept\n",
    "        self.w = None\n",
    "        self.num_attr = None\n",
    "       \n",
    "    \n",
    "    def _H(self, X, w):\n",
    "        '''\n",
    "        Establece la hipótesis de la regresión lineal. Devuelve la evaluación de dicha hipótesis.\n",
    "        '''\n",
    "        if len(X.shape) > 1:\n",
    "            return np.sum(X*np.array(w), axis=1)\n",
    "        else:\n",
    "            return X*np.array(w)\n",
    "\n",
    "    def _J(self, X, Y, w):\n",
    "        '''\n",
    "        Establece la función de coste y devuelve la evaluación de dicha función de coste\n",
    "        '''\n",
    "        return (0.5 / X.shape[0]) * sum((self._H(X, w) - y) ** 2)\n",
    "    \n",
    "    def _update(self, X, y, current_w):\n",
    "        raise Exception(\"Not implemented\")\n",
    "\n",
    "    def fit(self, X, y, num_iter=100, verbose=True, plot=False):\n",
    "        '''\n",
    "        Lleva a cabo la búsqueda de los mejores pesos dado los datos de entrada X y la \n",
    "        variable respuesta y.\n",
    "        Parámetros:\n",
    "          - X: datos de entrada en formato de tabla. Cada fila corresponde a una muestra y cada columna a un atributo.\n",
    "          - y: variable de respuesta. Debe contener tantos elementos como filas tiene la entrada.\n",
    "          - num_iter: número de iteraciones que queremos ejecutar de algoritmo de búsqueda.\n",
    "          - verbose: si es True imprimirá por pantalla mensajes sobre el progreso\n",
    "          - plot: si es True mostrará un gráfico de la línea de regresión. Solo en el caso de tener un solo atributo.\n",
    "        '''\n",
    "        \n",
    "        # Comprobamos que el número de filas de la entrada corresponde con el número \n",
    "        # de elementos de la variable de respuesta\n",
    "        if len(X) != len(y):\n",
    "            raise Exception(\"El número de filas de X y el número de elemento en y no se corresponden.\")\n",
    "\n",
    "        if type(X) is pd.DataFrame:\n",
    "            X = X.values\n",
    "        \n",
    "        if len(X.shape) == 1:\n",
    "            X = X.reshape(X.shape[0],1)\n",
    "\n",
    "        # Si se quiere ajustar la intercepción debemos introducir un nuevo atributo ficticio\n",
    "        if self.fit_intercept:\n",
    "            X = np.hstack((X, np.array([1.] * X.shape[0]\n",
    "                                      ).reshape(X.shape[0],1)))\n",
    "        \n",
    "            \n",
    "        # Usaremos esta lista para guardar el progreso del ajuste\n",
    "        self.history = []\n",
    "\n",
    "        # Establecemos el valor del coste al inicio lo mayor posible    \n",
    "        j_min = float(\"inf\")\n",
    "        \n",
    "        # Inicializamos los pesos\n",
    "        self.num_attr = 1 if len(X.shape) == 1 else X.shape[1]\n",
    "        self.w = [.0] * self.num_attr\n",
    "        current_w = [.0] * self.num_attr\n",
    "            \n",
    "        for it in range(0,num_iter):\n",
    "            # actualizamos los pesos aplicando el desfase de los pesos\n",
    "            current_w = self._update(X, y, current_w)\n",
    "            \n",
    "            # calculamos el coste con los nuevos pesos\n",
    "            j = self._J(X, y, current_w)\n",
    "\n",
    "            # si encontramos mejora, actualizamos el los pesos del modelo y guardamos \n",
    "            # la mejora en el histórico\n",
    "            if j < j_min:\n",
    "                if verbose:\n",
    "                    print (\"Mejora: %f (%s)\" % (j, current_w))\n",
    "                    \n",
    "                j_min = j\n",
    "                self.w = current_w[:]\n",
    "                self.history.append(current_w[:])\n",
    "\n",
    "        # si se ha pedido mostrar el gráfico del progreso y tenemos un solo atributo \n",
    "        # pintamos las rectas encontradas      \n",
    "        if plot and (self.num_attr == 1 or self.num_attr == 2 and self.fit_intercept):\n",
    "            axes = plt.gca()\n",
    "            axes.set_ylim([min(0, y.min() - y.std()), y.max() + y.std()])\n",
    "            axes.set_xlim([min(0, X.min() - X.std()), X.max() + X.std()])\n",
    "            \n",
    "            for i, w in enumerate(self.history[:-1]):\n",
    "                X_plot = np.linspace(axes.get_xlim()[0],axes.get_xlim()[1],100)\n",
    "                if self.fit_intercept:\n",
    "                    X_plot = np.hstack((X_plot.reshape(X_plot.shape[0],1), \n",
    "                                        np.array([1.] * X_plot.shape[0]).reshape(X_plot.shape[0],1)))\n",
    "                    \n",
    "                gray = 1-i/(len(self.history)-1)\n",
    "                plt.plot(X_plot, self._H(X_plot, w), '-', color=str(gray))\n",
    "\n",
    "\n",
    "            # Add correlation line\n",
    "            X_plot = np.linspace(axes.get_xlim()[0],axes.get_xlim()[1],100)\n",
    "            if self.fit_intercept:\n",
    "                X_plot = np.hstack((X_plot.reshape(X_plot.shape[0],1), \n",
    "                                    np.array([1.] * X_plot.shape[0]).reshape(X_plot.shape[0],1)))\n",
    "\n",
    "            plt.plot(X_plot, self._H(X_plot, self.w), '-', linewidth=2)\n",
    "\n",
    "            if self.fit_intercept:\n",
    "                plt.scatter(X[:, :-1], y, marker='+', color='r', s=200)\n",
    "            else:\n",
    "                plt.scatter(X, y, marker='+', color='r', s=200)\n",
    "\n",
    "            \n",
    "            plt.show()\n",
    "            \n",
    "        print (\"Mejor solución: %f (%s)\" % (j_min, self.w))\n",
    "            \n",
    "    def predict(self, X):\n",
    "        '''\n",
    "        Realiza la predicción para los datos de entrada X\n",
    "        '''\n",
    "        if self.w is None:\n",
    "            raise Exception(\"El modelo no ha sido ajustado\")\n",
    "            \n",
    "        return self._H(X, self.w)\n",
    "    \n"
   ]
  },
  {
   "cell_type": "markdown",
   "metadata": {},
   "source": [
    "Ahora nos podemos crear una especificación para la búsqueda aleatoria"
   ]
  },
  {
   "cell_type": "code",
   "execution_count": 15,
   "metadata": {},
   "outputs": [
    {
     "name": "stderr",
     "output_type": "stream",
     "text": [
      "/usr/local/lib/python2.7/dist-packages/ipykernel/__main__.py:58: FutureWarning: reshape is deprecated and will raise in a subsequent release. Please use .values.reshape(...) instead\n"
     ]
    },
    {
     "name": "stdout",
     "output_type": "stream",
     "text": [
      "Mejora: 19036.216758 ([0.32174286913777883, 0.591319283676363])\n",
      "Mejora: 12356.044511 ([0.08718010247023056, 1.378726223851387])\n",
      "Mejora: 3441.133546 ([0.16784178133978167, 1.8510196277482045])\n",
      "Mejora: 3416.439904 ([0.20775092917549376, 1.7578575339828262])\n",
      "Mejora: 3298.328304 ([0.17334084761925617, 1.1400811699016045])\n",
      "Mejora: 3159.995156 ([0.19657179608313213, 0.2219626411816129])\n",
      "Mejora: 3111.344468 ([0.18976377211718276, 0.2342872545848227])\n"
     ]
    },
    {
     "data": {
      "image/png": "[encoded data removed]",
      "text/plain": [
       "<matplotlib.figure.Figure at 0x7f827362e950>"
      ]
     },
     "metadata": {},
     "output_type": "display_data"
    },
    {
     "name": "stdout",
     "output_type": "stream",
     "text": [
      "Mejor solución: 3111.344468 ([0.18976377211718276, 0.2342872545848227])\n"
     ]
    }
   ],
   "source": [
    "class RandomRegresionLineal(BaseRegresionLineal):\n",
    "    \n",
    "    def _update(self, X, y, current_w):\n",
    "        for iattr in range(self.num_attr):\n",
    "            current_w[iattr] = self.w[iattr] + random.uniform(-self.learning_rate,self.learning_rate)\n",
    "        \n",
    "        return current_w\n",
    "reg = RandomRegresionLineal(learning_rate=1, fit_intercept=True)\n",
    "reg.fit(X.Metros, data.Precio, num_iter=1000, plot=True)"
   ]
  },
  {
   "cell_type": "markdown",
   "metadata": {},
   "source": [
    "Y para el gradiente descendente:"
   ]
  },
  {
   "cell_type": "code",
   "execution_count": 16,
   "metadata": {},
   "outputs": [
    {
     "name": "stderr",
     "output_type": "stream",
     "text": [
      "/usr/local/lib/python2.7/dist-packages/ipykernel/__main__.py:58: FutureWarning: reshape is deprecated and will raise in a subsequent release. Please use .values.reshape(...) instead\n"
     ]
    },
    {
     "name": "stdout",
     "output_type": "stream",
     "text": [
      "Mejora: 10605775532226.357422 ([3425.0, 2.5790909090909095])\n"
     ]
    },
    {
     "data": {
      "image/png": "[encoded data removed]",
      "text/plain": [
       "<matplotlib.figure.Figure at 0x7f8270d19c90>"
      ]
     },
     "metadata": {},
     "output_type": "display_data"
    },
    {
     "name": "stdout",
     "output_type": "stream",
     "text": [
      "Mejor solución: 10605775532226.357422 ([3425.0, 2.5790909090909095])\n"
     ]
    }
   ],
   "source": [
    "class GDRegresionLineal(BaseRegresionLineal):\n",
    "    \n",
    "    def _update(self, X, y, current_w):\n",
    "        for iattr in range(self.num_attr):\n",
    "            current_w[iattr] = self.w[iattr] - (self.learning_rate * \n",
    "                            (np.dot(self._H(X, self.w) - y, X[:,iattr]) / X.shape[0]))\n",
    "\n",
    "        return current_w\n",
    "reg = GDRegresionLineal(learning_rate=0.01, fit_intercept=True)\n",
    "reg.fit(X.Metros, data.Precio, num_iter=1000, plot=True) #siempre que sepamos que el algoritmo va a utilizar gradiente descendente es mejor normalizarlo."
   ]
  },
  {
   "cell_type": "markdown",
   "metadata": {},
   "source": [
    "No encuentra mejora. Esto es debido a que la actualización de los pesos ahora esta ligada a nuestras variables (recordamos que usamos la derivadas parciales de la función de coste). Esto implica, que con valores grandes en la variables se produciran grandes *saltos* durante la actualización de los coeficientes.\n",
    "\n",
    "Podemos normalizar los datos entre 0 y 1 y de esta forma tenemos más controlados estas actualizaciones."
   ]
  },
  {
   "cell_type": "code",
   "execution_count": 17,
   "metadata": {
    "collapsed": true
   },
   "outputs": [],
   "source": [
    "data['metros_norm'] = data.Metros / max(data.Metros)"
   ]
  },
  {
   "cell_type": "code",
   "execution_count": 18,
   "metadata": {},
   "outputs": [
    {
     "name": "stderr",
     "output_type": "stream",
     "text": [
      "/usr/local/lib/python2.7/dist-packages/ipykernel/__main__.py:58: FutureWarning: reshape is deprecated and will raise in a subsequent release. Please use .values.reshape(...) instead\n"
     ]
    },
    {
     "data": {
      "image/png": "[encoded data removed]",
      "text/plain": [
       "<matplotlib.figure.Figure at 0x7f8273b48090>"
      ]
     },
     "metadata": {},
     "output_type": "display_data"
    },
    {
     "name": "stdout",
     "output_type": "stream",
     "text": [
      "Mejor solución: 1130.919066 ([162.43922854103866, 168.51303851091785])\n"
     ]
    }
   ],
   "source": [
    "rlgd = GDRegresionLineal(learning_rate=0.01, fit_intercept=True)\n",
    "rlgd.fit(data.metros_norm, data.Precio, num_iter=2000, plot=True, verbose=False)"
   ]
  },
  {
   "cell_type": "code",
   "execution_count": 19,
   "metadata": {},
   "outputs": [
    {
     "ename": "ImportError",
     "evalue": "No module named keras",
     "output_type": "error",
     "traceback": [
      "\u001b[1;31m---------------------------------------------------------------------------\u001b[0m",
      "\u001b[1;31mImportError\u001b[0m                               Traceback (most recent call last)",
      "\u001b[1;32m<ipython-input-19-edf3101355a1>\u001b[0m in \u001b[0;36m<module>\u001b[1;34m()\u001b[0m\n\u001b[1;32m----> 1\u001b[1;33m \u001b[1;32mimport\u001b[0m \u001b[0mkeras\u001b[0m\u001b[1;33m\u001b[0m\u001b[0m\n\u001b[0m\u001b[0;32m      2\u001b[0m \u001b[0mkeras\u001b[0m\u001b[1;33m.\u001b[0m\u001b[0m__version__\u001b[0m\u001b[1;33m\u001b[0m\u001b[0m\n",
      "\u001b[1;31mImportError\u001b[0m: No module named keras"
     ]
    }
   ],
   "source": [
    "import keras\n",
    "keras.__version__"
   ]
  },
  {
   "cell_type": "code",
   "execution_count": null,
   "metadata": {
    "collapsed": true
   },
   "outputs": [],
   "source": []
  }
 ],
 "metadata": {
  "anaconda-cloud": {},
  "kernelspec": {
   "display_name": "Python 3",
   "language": "python",
   "name": "python3"
  },
  "language_info": {
   "codemirror_mode": {
    "name": "ipython",
    "version": 3
   },
   "file_extension": ".py",
   "mimetype": "text/x-python",
   "name": "python",
   "nbconvert_exporter": "python",
   "pygments_lexer": "ipython3",
   "version": "3.6.2"
  }
 },
 "nbformat": 4,
 "nbformat_minor": 1
}
