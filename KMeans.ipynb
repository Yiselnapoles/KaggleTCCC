{
 "cells": [
  {
   "cell_type": "markdown",
   "metadata": {},
   "source": [
    "## Implementación de Kmeans (clustering)"
   ]
  },
  {
   "cell_type": "code",
   "execution_count": 1,
   "metadata": {
    "collapsed": true
   },
   "outputs": [],
   "source": [
    "%matplotlib inline\n",
    "import numpy as np\n",
    "import matplotlib.pyplot as plt\n",
    "from pylab import *"
   ]
  },
  {
   "cell_type": "markdown",
   "metadata": {},
   "source": [
    "Vamos a usar el dataset iris. Este dataset esta pensado para clasificación de 3 familias de un especie de planta, pero también lo podemos usar para clustering si no usamos la variable respuesta:"
   ]
  },
  {
   "cell_type": "code",
   "execution_count": 3,
   "metadata": {},
   "outputs": [],
   "source": [
    "type(iris)\n",
    "\n",
    "from sklearn import datasets\n",
    "iris = datasets.load_iris()\n",
    "X = iris.data[:, :2]  # we only take the first two features.\n",
    "Y = iris.target"
   ]
  },
  {
   "cell_type": "code",
   "execution_count": 8,
   "metadata": {},
   "outputs": [],
   "source": [
    "import numpy as np\n",
    "from scipy.spatial import distance #scipy implementa calculos matematicos\n",
    "\n",
    "# kmeans: siempre necesita el nº de cluster que vamos a utilizar. \n",
    "\n",
    "class KMeans:\n",
    "    \n",
    "    def __init__(self, K, distance=distance.euclidean):\n",
    "        self.K = K\n",
    "        self.distance = distance #asignamos una funcion a una varaible. funcion para medir la distancia. Antes estabamos pasando funciones.\n",
    "        self.centroids = []\n",
    "        self.history = []\n",
    "        \n",
    "    \n",
    "    def fit(self, X, verbose=True):\n",
    "        # inicializamos el historial y una matrix para guardar la distancia de \n",
    "        # cada punto a cada centro\n",
    "        self.history = []\n",
    "        distances = np.zeros(shape=(X.shape[0], self.K+1))\n",
    "\n",
    "        # centros iniciales\n",
    "        idx = np.random.randint(X.shape[0], size=self.K) #randint: crea nº enteros\n",
    "        self.centroids = X[idx,:]\n",
    "        \n",
    "        # calculamos la distancia de cada punto a cada centro\n",
    "        self._calculate_distances(distances, X)\n",
    "\n",
    "        # asignamos el cluster más cercano a cada instancia\n",
    "        distances[:, self.K] = np.argmin(distances[:,:self.K], axis=1) #axis=1:por fila. Vamos para cada fila a buscar en que cluster esta el minimo y la ultima columna va a contener el nº de cluster seleccionado.\n",
    "        \n",
    "        # agremos al historial\n",
    "        self.history.append( (self.centroids, distances[:, self.K]) )\n",
    "        \n",
    "        # calculamos el error total (la suma de las distancias)\n",
    "        error = self._calculate_error(distances)\n",
    "\n",
    "        if verbose:\n",
    "            print(\"Puntos iniciales:\")\n",
    "            self._print_cetroids(self.centroids)\n",
    "            print(\"Error: %f\" % error)\n",
    "        \n",
    "        # variable para controlar cuando parar (no se encuentra más mejora)\n",
    "        stop = False\n",
    "        \n",
    "        while not stop:\n",
    "\n",
    "            # calculamos los nuevos centros\n",
    "            for i in range(self.K):\n",
    "                self.centroids[i] = X[np.where(distances[:,self.K] == i)].mean(axis=0) #nuevo centroide. Se calcula como la media de todas las muestras\n",
    "                \n",
    "            # calculamos la distancia de cada punto a cada centro\n",
    "            self._calculate_distances(distances, X)\n",
    "            \n",
    "            #asignamos el cluster más cercano a cada instancia\n",
    "            distances[:, self.K] = np.argmin(distances[:,:self.K], axis=1)\n",
    "            \n",
    "            # agremos al historial\n",
    "            self.history.append( (self.centroids, distances[:, self.K]) )\n",
    "\n",
    "            # calculamos el nuevo error\n",
    "            new_error = self._calculate_error(distances)\n",
    "            \n",
    "            # paramos en caso de no mejorar\n",
    "            stop = new_error == error #esto significa que el algoritmo converge\n",
    "            error = new_error\n",
    "            \n",
    "            if verbose:\n",
    "                print(\"Nuevos centros:\")\n",
    "                self._print_cetroids(self.centroids)\n",
    "                print(\"Error: %f\" % error)\n",
    "                \n",
    "        \n",
    "    def predict(self, X):\n",
    "        \n",
    "        distances = np.zeros(shape=(X.shape[0], self.K+1))\n",
    "        \n",
    "        self._calculate_distances(distances, X)\n",
    "            \n",
    "        #asignamos el cluster más cercano a cada instancia\n",
    "        distances[:, self.K] = np.argmin(distances[:,:self.K], axis=1)\n",
    "        \n",
    "        return distances[:, self.K]\n",
    "             \n",
    "            \n",
    "    def _calculate_error(self, distances):\n",
    "        error = 0\n",
    "        for i in range(self.K):\n",
    "            error += distances[np.where(distances[:,self.K] == i), i].sum()\n",
    "            \n",
    "        return error\n",
    "        \n",
    "    def _calculate_distances(self, distances, X):\n",
    "        #calculamos las distancias de cada instancia a los centros\n",
    "        for i in range(self.K):\n",
    "            for j in range(X.shape[0]):\n",
    "                distances[j,i] = self.distance(X[j], self.centroids[i])\n",
    "                \n",
    "    def _print_cetroids(self, centroids):\n",
    "        \n",
    "        formatting = \", \".join([\"(%0.3f,%0.3f)\" for i in range(len(centroids))])\n",
    "        params = [e for t in centroids for e in t]\n",
    "        print(formatting % tuple(params))\n",
    "\n",
    "        \n",
    "        "
   ]
  },
  {
   "cell_type": "markdown",
   "metadata": {},
   "source": [
    "Una vez tenemos la implementación, no creamos el objeto indicando que queremos encontrar 3 clusters y entrenamos (fit):"
   ]
  },
  {
   "cell_type": "code",
   "execution_count": 9,
   "metadata": {},
   "outputs": [
    {
     "name": "stdout",
     "output_type": "stream",
     "text": [
      "Puntos iniciales:\n",
      "(4.900,3.100), (5.400,3.900), (4.600,3.100)\n",
      "Error: 146.412664\n",
      "Nuevos centros:\n",
      "(5.517,2.829), (6.371,3.269), (4.527,3.100)\n",
      "Error: 80.654393\n",
      "Nuevos centros:\n",
      "(5.587,2.808), (6.598,3.095), (4.849,3.300)\n",
      "Error: 66.443274\n",
      "Nuevos centros:\n",
      "(5.672,2.670), (6.707,3.025), (5.006,3.418)\n",
      "Error: 63.201205\n",
      "Nuevos centros:\n",
      "(5.744,2.686), (6.780,3.058), (5.006,3.418)\n",
      "Error: 62.834329\n",
      "Nuevos centros:\n",
      "(5.763,2.690), (6.802,3.069), (5.006,3.418)\n",
      "Error: 62.857090\n",
      "Nuevos centros:\n",
      "(5.774,2.692), (6.813,3.074), (5.006,3.418)\n",
      "Error: 62.879823\n",
      "Nuevos centros:\n",
      "(5.774,2.692), (6.813,3.074), (5.006,3.418)\n",
      "Error: 62.879823\n"
     ]
    }
   ],
   "source": [
    "kmeans = KMeans(3)\n",
    "history = kmeans.fit(X)"
   ]
  },
  {
   "cell_type": "markdown",
   "metadata": {},
   "source": [
    "Podemos realizar el clustering sobre nuevos datos. En este caso lo hacemos sobre los mismo para compararlos con las clases reales:"
   ]
  },
  {
   "cell_type": "code",
   "execution_count": 10,
   "metadata": {},
   "outputs": [
    {
     "data": {
      "text/plain": [
       "array([ 2.,  2.,  2.,  2.,  2.,  2.,  2.,  2.,  2.,  2.,  2.,  2.,  2.,\n",
       "        2.,  2.,  2.,  2.,  2.,  2.,  2.,  2.,  2.,  2.,  2.,  2.,  2.,\n",
       "        2.,  2.,  2.,  2.,  2.,  2.,  2.,  2.,  2.,  2.,  2.,  2.,  2.,\n",
       "        2.,  2.,  2.,  2.,  2.,  2.,  2.,  2.,  2.,  2.,  2.,  1.,  1.,\n",
       "        1.,  0.,  1.,  0.,  1.,  0.,  1.,  0.,  0.,  0.,  0.,  0.,  0.,\n",
       "        1.,  0.,  0.,  0.,  0.,  0.,  0.,  0.,  0.,  1.,  1.,  1.,  1.,\n",
       "        0.,  0.,  0.,  0.,  0.,  0.,  0.,  0.,  1.,  0.,  0.,  0.,  0.,\n",
       "        0.,  0.,  0.,  0.,  0.,  0.,  0.,  0.,  0.,  1.,  0.,  1.,  1.,\n",
       "        1.,  1.,  0.,  1.,  1.,  1.,  1.,  1.,  1.,  0.,  0.,  1.,  1.,\n",
       "        1.,  1.,  0.,  1.,  0.,  1.,  0.,  1.,  1.,  0.,  0.,  1.,  1.,\n",
       "        1.,  1.,  1.,  0.,  0.,  1.,  1.,  1.,  0.,  1.,  1.,  1.,  0.,\n",
       "        1.,  1.,  1.,  0.,  1.,  1.,  0.])"
      ]
     },
     "execution_count": 10,
     "metadata": {},
     "output_type": "execute_result"
    }
   ],
   "source": [
    "predict = kmeans.predict(X)\n",
    "predict"
   ]
  },
  {
   "cell_type": "markdown",
   "metadata": {},
   "source": [
    "Representamos los cluster con un scatter e indicamos que asigne un color a cada cluster:"
   ]
  },
  {
   "cell_type": "code",
   "execution_count": 11,
   "metadata": {},
   "outputs": [
    {
     "data": {
      "text/plain": [
       "<matplotlib.collections.PathCollection at 0x7f9534fef0b8>"
      ]
     },
     "execution_count": 11,
     "metadata": {},
     "output_type": "execute_result"
    },
    {
     "data": {
      "image/png": "[encoded data removed]",
      "text/plain": [
       "<matplotlib.figure.Figure at 0x7f9519a62b38>"
      ]
     },
     "metadata": {},
     "output_type": "display_data"
    }
   ],
   "source": [
    "plt.scatter(X[:, 0], X[:, 1], c=predict)"
   ]
  },
  {
   "cell_type": "markdown",
   "metadata": {},
   "source": [
    "Representamos igualmente los grupos reales:"
   ]
  },
  {
   "cell_type": "code",
   "execution_count": 12,
   "metadata": {},
   "outputs": [
    {
     "data": {
      "text/plain": [
       "<matplotlib.collections.PathCollection at 0x7f9534f64438>"
      ]
     },
     "execution_count": 12,
     "metadata": {},
     "output_type": "execute_result"
    },
    {
     "data": {
      "image/png": "[encoded data removed]",
      "text/plain": [
       "<matplotlib.figure.Figure at 0x7f9544e4eac8>"
      ]
     },
     "metadata": {},
     "output_type": "display_data"
    }
   ],
   "source": [
    "plt.scatter(X[:, 0], X[:, 1], c=Y)"
   ]
  },
  {
   "cell_type": "code",
   "execution_count": null,
   "metadata": {
    "collapsed": true
   },
   "outputs": [],
   "source": []
  }
 ],
 "metadata": {
  "anaconda-cloud": {},
  "kernelspec": {
   "display_name": "Python 3",
   "language": "python",
   "name": "python3"
  },
  "language_info": {
   "codemirror_mode": {
    "name": "ipython",
    "version": 3
   },
   "file_extension": ".py",
   "mimetype": "text/x-python",
   "name": "python",
   "nbconvert_exporter": "python",
   "pygments_lexer": "ipython3",
   "version": "3.6.2"
  }
 },
 "nbformat": 4,
 "nbformat_minor": 1
}
