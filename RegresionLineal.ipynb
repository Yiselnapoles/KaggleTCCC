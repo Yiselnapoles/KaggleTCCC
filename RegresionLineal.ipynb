{
 "cells": [
  {
   "cell_type": "markdown",
   "metadata": {},
   "source": [
    "# Regresión lineal\n",
    "\n",
    "### Configuración de los gráficos\n",
    "\n",
    "Para que el notebook nos renderize los gráficos debemos primero ejecutar un par de líneas:"
   ]
  },
  {
   "cell_type": "code",
   "execution_count": 1,
   "metadata": {
    "collapsed": false
   },
   "outputs": [],
   "source": [
    "import matplotlib\n",
    "%matplotlib inline\n",
    "#matplotlib.use('Agg')\n",
    "from matplotlib import pyplot as plt"
   ]
  },
  {
   "cell_type": "markdown",
   "metadata": {},
   "source": [
    "### Los datos"
   ]
  },
  {
   "cell_type": "markdown",
   "metadata": {},
   "source": [
    "Definimos nuestros conjunto de datos. Vamos a usar pandas para ello:"
   ]
  },
  {
   "cell_type": "code",
   "execution_count": 2,
   "metadata": {
    "collapsed": false
   },
   "outputs": [
    {
     "data": {
      "text/html": [
       "<div>\n",
       "<table border=\"1\" class=\"dataframe\">\n",
       "  <thead>\n",
       "    <tr style=\"text-align: right;\">\n",
       "      <th></th>\n",
       "      <th>Metros</th>\n",
       "      <th>Habitaciones</th>\n",
       "    </tr>\n",
       "  </thead>\n",
       "  <tbody>\n",
       "    <tr>\n",
       "      <th>0</th>\n",
       "      <td>490</td>\n",
       "      <td>1</td>\n",
       "    </tr>\n",
       "    <tr>\n",
       "      <th>1</th>\n",
       "      <td>600</td>\n",
       "      <td>2</td>\n",
       "    </tr>\n",
       "    <tr>\n",
       "      <th>2</th>\n",
       "      <td>650</td>\n",
       "      <td>1</td>\n",
       "    </tr>\n",
       "    <tr>\n",
       "      <th>3</th>\n",
       "      <td>800</td>\n",
       "      <td>3</td>\n",
       "    </tr>\n",
       "    <tr>\n",
       "      <th>4</th>\n",
       "      <td>900</td>\n",
       "      <td>3</td>\n",
       "    </tr>\n",
       "    <tr>\n",
       "      <th>5</th>\n",
       "      <td>1100</td>\n",
       "      <td>4</td>\n",
       "    </tr>\n",
       "    <tr>\n",
       "      <th>6</th>\n",
       "      <td>1400</td>\n",
       "      <td>3</td>\n",
       "    </tr>\n",
       "    <tr>\n",
       "      <th>7</th>\n",
       "      <td>1600</td>\n",
       "      <td>3</td>\n",
       "    </tr>\n",
       "    <tr>\n",
       "      <th>8</th>\n",
       "      <td>1800</td>\n",
       "      <td>2</td>\n",
       "    </tr>\n",
       "    <tr>\n",
       "      <th>9</th>\n",
       "      <td>1900</td>\n",
       "      <td>4</td>\n",
       "    </tr>\n",
       "    <tr>\n",
       "      <th>10</th>\n",
       "      <td>2200</td>\n",
       "      <td>4</td>\n",
       "    </tr>\n",
       "  </tbody>\n",
       "</table>\n",
       "</div>"
      ],
      "text/plain": [
       "    Metros  Habitaciones\n",
       "0      490             1\n",
       "1      600             2\n",
       "2      650             1\n",
       "3      800             3\n",
       "4      900             3\n",
       "5     1100             4\n",
       "6     1400             3\n",
       "7     1600             3\n",
       "8     1800             2\n",
       "9     1900             4\n",
       "10    2200             4"
      ]
     },
     "execution_count": 2,
     "metadata": {},
     "output_type": "execute_result"
    }
   ],
   "source": [
    "import pandas as pd\n",
    "data = pd.DataFrame(data={\"Precio\": [100,150,230,255,300,290,310,295,315,298,294],\n",
    "                          \"Metros\": [490,600,650,800,900,1100,1400,1600,1800,1900,2200],\n",
    "                          \"Habitaciones\": [1,2,1,3,3,4,3,3,2,4,4]})\n",
    "\n",
    "y = data.Precio\n",
    "X = data[['Metros', 'Habitaciones']]\n",
    "X"
   ]
  },
  {
   "cell_type": "markdown",
   "metadata": {},
   "source": [
    "## Hipótesis"
   ]
  },
  {
   "cell_type": "markdown",
   "metadata": {},
   "source": [
    "Definimos nuestra hipótesis de relación lineal $\\mathbf{x}^T\\mathbf{w} = y$:\n",
    "  - Usamos numpy para realizar las operaciones vectoriales.\n",
    "  - Tras la multiplicación usamos la suma. Le indicamos hacer la suma por filas."
   ]
  },
  {
   "cell_type": "code",
   "execution_count": 3,
   "metadata": {
    "collapsed": false
   },
   "outputs": [
    {
     "data": {
      "text/plain": [
       "0      98.3\n",
       "1     120.6\n",
       "2     130.3\n",
       "3     160.9\n",
       "4     180.9\n",
       "5     221.2\n",
       "6     280.9\n",
       "7     320.9\n",
       "8     360.6\n",
       "9     381.2\n",
       "10    441.2\n",
       "dtype: float64"
      ]
     },
     "execution_count": 3,
     "metadata": {},
     "output_type": "execute_result"
    }
   ],
   "source": [
    "import numpy as np\n",
    "def H(x, w):\n",
    "    if len(x.shape) > 1:\n",
    "        return np.sum(x*np.array(w), axis=1)\n",
    "    else:\n",
    "        return x*np.array(w)\n",
    "\n",
    "H(X, [0.2, 0.3])  "
   ]
  },
  {
   "cell_type": "markdown",
   "metadata": {},
   "source": [
    "Podemos crear nuevas columnas en nuestra tabla para ver la predicción y el error por cada muestra:"
   ]
  },
  {
   "cell_type": "code",
   "execution_count": 4,
   "metadata": {
    "collapsed": false
   },
   "outputs": [
    {
     "data": {
      "text/html": [
       "<div>\n",
       "<table border=\"1\" class=\"dataframe\">\n",
       "  <thead>\n",
       "    <tr style=\"text-align: right;\">\n",
       "      <th></th>\n",
       "      <th>Habitaciones</th>\n",
       "      <th>Metros</th>\n",
       "      <th>Precio</th>\n",
       "      <th>Prediccion</th>\n",
       "      <th>Error</th>\n",
       "    </tr>\n",
       "  </thead>\n",
       "  <tbody>\n",
       "    <tr>\n",
       "      <th>0</th>\n",
       "      <td>1</td>\n",
       "      <td>490</td>\n",
       "      <td>100</td>\n",
       "      <td>98.6</td>\n",
       "      <td>1.4</td>\n",
       "    </tr>\n",
       "    <tr>\n",
       "      <th>1</th>\n",
       "      <td>2</td>\n",
       "      <td>600</td>\n",
       "      <td>150</td>\n",
       "      <td>121.2</td>\n",
       "      <td>28.8</td>\n",
       "    </tr>\n",
       "    <tr>\n",
       "      <th>2</th>\n",
       "      <td>1</td>\n",
       "      <td>650</td>\n",
       "      <td>230</td>\n",
       "      <td>130.6</td>\n",
       "      <td>99.4</td>\n",
       "    </tr>\n",
       "    <tr>\n",
       "      <th>3</th>\n",
       "      <td>3</td>\n",
       "      <td>800</td>\n",
       "      <td>255</td>\n",
       "      <td>161.8</td>\n",
       "      <td>93.2</td>\n",
       "    </tr>\n",
       "    <tr>\n",
       "      <th>4</th>\n",
       "      <td>3</td>\n",
       "      <td>900</td>\n",
       "      <td>300</td>\n",
       "      <td>181.8</td>\n",
       "      <td>118.2</td>\n",
       "    </tr>\n",
       "    <tr>\n",
       "      <th>5</th>\n",
       "      <td>4</td>\n",
       "      <td>1100</td>\n",
       "      <td>290</td>\n",
       "      <td>222.4</td>\n",
       "      <td>67.6</td>\n",
       "    </tr>\n",
       "    <tr>\n",
       "      <th>6</th>\n",
       "      <td>3</td>\n",
       "      <td>1400</td>\n",
       "      <td>310</td>\n",
       "      <td>281.8</td>\n",
       "      <td>28.2</td>\n",
       "    </tr>\n",
       "    <tr>\n",
       "      <th>7</th>\n",
       "      <td>3</td>\n",
       "      <td>1600</td>\n",
       "      <td>295</td>\n",
       "      <td>321.8</td>\n",
       "      <td>26.8</td>\n",
       "    </tr>\n",
       "    <tr>\n",
       "      <th>8</th>\n",
       "      <td>2</td>\n",
       "      <td>1800</td>\n",
       "      <td>315</td>\n",
       "      <td>361.2</td>\n",
       "      <td>46.2</td>\n",
       "    </tr>\n",
       "    <tr>\n",
       "      <th>9</th>\n",
       "      <td>4</td>\n",
       "      <td>1900</td>\n",
       "      <td>298</td>\n",
       "      <td>382.4</td>\n",
       "      <td>84.4</td>\n",
       "    </tr>\n",
       "    <tr>\n",
       "      <th>10</th>\n",
       "      <td>4</td>\n",
       "      <td>2200</td>\n",
       "      <td>294</td>\n",
       "      <td>442.4</td>\n",
       "      <td>148.4</td>\n",
       "    </tr>\n",
       "  </tbody>\n",
       "</table>\n",
       "</div>"
      ],
      "text/plain": [
       "    Habitaciones  Metros  Precio  Prediccion  Error\n",
       "0              1     490     100        98.6    1.4\n",
       "1              2     600     150       121.2   28.8\n",
       "2              1     650     230       130.6   99.4\n",
       "3              3     800     255       161.8   93.2\n",
       "4              3     900     300       181.8  118.2\n",
       "5              4    1100     290       222.4   67.6\n",
       "6              3    1400     310       281.8   28.2\n",
       "7              3    1600     295       321.8   26.8\n",
       "8              2    1800     315       361.2   46.2\n",
       "9              4    1900     298       382.4   84.4\n",
       "10             4    2200     294       442.4  148.4"
      ]
     },
     "execution_count": 4,
     "metadata": {},
     "output_type": "execute_result"
    }
   ],
   "source": [
    "data['Prediccion'] = H(X, [0.2, 0.6])  \n",
    "data['Error'] = abs(data['Precio'] - data['Prediccion'])\n",
    "\n",
    "data"
   ]
  },
  {
   "cell_type": "markdown",
   "metadata": {},
   "source": [
    "## Función de coste"
   ]
  },
  {
   "cell_type": "markdown",
   "metadata": {},
   "source": [
    "Definimos la función de coste $\\frac{1}{2m}\\sum_i^m (h_\\mathbf{w}(\\mathbf{x^i}) - y_i)^2$:"
   ]
  },
  {
   "cell_type": "code",
   "execution_count": 5,
   "metadata": {
    "collapsed": false
   },
   "outputs": [
    {
     "data": {
      "text/plain": [
       "3108.5572727272734"
      ]
     },
     "execution_count": 5,
     "metadata": {},
     "output_type": "execute_result"
    }
   ],
   "source": [
    "def J(X, y, w):\n",
    "    return (0.5 / X.shape[0]) * sum((H(X, w) - y) ** 2)\n",
    "\n",
    "J(X, y, [0.19, 0.2])"
   ]
  },
  {
   "cell_type": "markdown",
   "metadata": {},
   "source": [
    "Podemos ahora ver el error cuadrático por muestra de la misma forma:"
   ]
  },
  {
   "cell_type": "code",
   "execution_count": 6,
   "metadata": {
    "collapsed": false
   },
   "outputs": [
    {
     "data": {
      "text/html": [
       "<div>\n",
       "<table border=\"1\" class=\"dataframe\">\n",
       "  <thead>\n",
       "    <tr style=\"text-align: right;\">\n",
       "      <th></th>\n",
       "      <th>Habitaciones</th>\n",
       "      <th>Metros</th>\n",
       "      <th>Precio</th>\n",
       "      <th>Prediccion</th>\n",
       "      <th>Error</th>\n",
       "      <th>Error²</th>\n",
       "    </tr>\n",
       "  </thead>\n",
       "  <tbody>\n",
       "    <tr>\n",
       "      <th>0</th>\n",
       "      <td>1</td>\n",
       "      <td>490</td>\n",
       "      <td>100</td>\n",
       "      <td>98.6</td>\n",
       "      <td>1.4</td>\n",
       "      <td>1.96</td>\n",
       "    </tr>\n",
       "    <tr>\n",
       "      <th>1</th>\n",
       "      <td>2</td>\n",
       "      <td>600</td>\n",
       "      <td>150</td>\n",
       "      <td>121.2</td>\n",
       "      <td>28.8</td>\n",
       "      <td>829.44</td>\n",
       "    </tr>\n",
       "    <tr>\n",
       "      <th>2</th>\n",
       "      <td>1</td>\n",
       "      <td>650</td>\n",
       "      <td>230</td>\n",
       "      <td>130.6</td>\n",
       "      <td>99.4</td>\n",
       "      <td>9880.36</td>\n",
       "    </tr>\n",
       "    <tr>\n",
       "      <th>3</th>\n",
       "      <td>3</td>\n",
       "      <td>800</td>\n",
       "      <td>255</td>\n",
       "      <td>161.8</td>\n",
       "      <td>93.2</td>\n",
       "      <td>8686.24</td>\n",
       "    </tr>\n",
       "    <tr>\n",
       "      <th>4</th>\n",
       "      <td>3</td>\n",
       "      <td>900</td>\n",
       "      <td>300</td>\n",
       "      <td>181.8</td>\n",
       "      <td>118.2</td>\n",
       "      <td>13971.24</td>\n",
       "    </tr>\n",
       "    <tr>\n",
       "      <th>5</th>\n",
       "      <td>4</td>\n",
       "      <td>1100</td>\n",
       "      <td>290</td>\n",
       "      <td>222.4</td>\n",
       "      <td>67.6</td>\n",
       "      <td>4569.76</td>\n",
       "    </tr>\n",
       "    <tr>\n",
       "      <th>6</th>\n",
       "      <td>3</td>\n",
       "      <td>1400</td>\n",
       "      <td>310</td>\n",
       "      <td>281.8</td>\n",
       "      <td>28.2</td>\n",
       "      <td>795.24</td>\n",
       "    </tr>\n",
       "    <tr>\n",
       "      <th>7</th>\n",
       "      <td>3</td>\n",
       "      <td>1600</td>\n",
       "      <td>295</td>\n",
       "      <td>321.8</td>\n",
       "      <td>26.8</td>\n",
       "      <td>718.24</td>\n",
       "    </tr>\n",
       "    <tr>\n",
       "      <th>8</th>\n",
       "      <td>2</td>\n",
       "      <td>1800</td>\n",
       "      <td>315</td>\n",
       "      <td>361.2</td>\n",
       "      <td>46.2</td>\n",
       "      <td>2134.44</td>\n",
       "    </tr>\n",
       "    <tr>\n",
       "      <th>9</th>\n",
       "      <td>4</td>\n",
       "      <td>1900</td>\n",
       "      <td>298</td>\n",
       "      <td>382.4</td>\n",
       "      <td>84.4</td>\n",
       "      <td>7123.36</td>\n",
       "    </tr>\n",
       "    <tr>\n",
       "      <th>10</th>\n",
       "      <td>4</td>\n",
       "      <td>2200</td>\n",
       "      <td>294</td>\n",
       "      <td>442.4</td>\n",
       "      <td>148.4</td>\n",
       "      <td>22022.56</td>\n",
       "    </tr>\n",
       "  </tbody>\n",
       "</table>\n",
       "</div>"
      ],
      "text/plain": [
       "    Habitaciones  Metros  Precio  Prediccion  Error    Error²\n",
       "0              1     490     100        98.6    1.4      1.96\n",
       "1              2     600     150       121.2   28.8    829.44\n",
       "2              1     650     230       130.6   99.4   9880.36\n",
       "3              3     800     255       161.8   93.2   8686.24\n",
       "4              3     900     300       181.8  118.2  13971.24\n",
       "5              4    1100     290       222.4   67.6   4569.76\n",
       "6              3    1400     310       281.8   28.2    795.24\n",
       "7              3    1600     295       321.8   26.8    718.24\n",
       "8              2    1800     315       361.2   46.2   2134.44\n",
       "9              4    1900     298       382.4   84.4   7123.36\n",
       "10             4    2200     294       442.4  148.4  22022.56"
      ]
     },
     "execution_count": 6,
     "metadata": {},
     "output_type": "execute_result"
    }
   ],
   "source": [
    "data['Error²'] = abs(data['Precio'] - data['Prediccion'])**2\n",
    "data"
   ]
  },
  {
   "cell_type": "markdown",
   "metadata": {
    "collapsed": false
   },
   "source": [
    "## Búsqueda de los mejores pesos\n",
    "\n",
    "Ahora tenemos que buscar los mejores pesos posibles para solucionar nuestro problema de predicción. Vamos a optar por una extrategía muy sencilla: \n",
    "  - Tomamos un peso aletorio para iniciar la búsqueda\n",
    "  - Iteramos un número de veces establecido:\n",
    "      - En cada iteración aplicamos un desplazamiento aletorio a a la mejor medida obtenida"
   ]
  },
  {
   "cell_type": "code",
   "execution_count": 7,
   "metadata": {
    "collapsed": false
   },
   "outputs": [
    {
     "data": {
      "text/plain": [
       "3219.0454545454545"
      ]
     },
     "execution_count": 7,
     "metadata": {},
     "output_type": "execute_result"
    }
   ],
   "source": [
    "J(data.Metros, data.Precio, [0.2])"
   ]
  },
  {
   "cell_type": "code",
   "execution_count": 8,
   "metadata": {
    "collapsed": false
   },
   "outputs": [
    {
     "name": "stdout",
     "output_type": "stream",
     "text": [
      "Mejora: 886247.738852 (w1: -0.798883)\n",
      "Mejora: 775737.379235 (w1: -0.734984)\n",
      "Mejora: 188292.553748 (w1: -0.263148)\n",
      "Mejora: 137677.835443 (w1: 0.575158)\n",
      "Mejora: 59309.241004 (w1: 0.438681)\n",
      "Mejora: 10638.746362 (w1: 0.098188)\n",
      "Mejora: 4151.857648 (w1: 0.223218)\n",
      "Mejora: 3841.883148 (w1: 0.161084)\n",
      "Mejora: 3132.823683 (w1: 0.193536)\n",
      "Mejora: 3121.476349 (w1: 0.187242)\n",
      "Mejora: 3121.327655 (w1: 0.191504)\n",
      "Mejora: 3117.844370 (w1: 0.190171)\n",
      "Mejora: 3117.533749 (w1: 0.189905)\n",
      "Mejora: 3117.319680 (w1: 0.189555)\n"
     ]
    },
    {
     "data": {
      "image/png": "[encoded data removed]",
      "text/plain": [
       "<matplotlib.figure.Figure at 0x7f56371d2978>"
      ]
     },
     "metadata": {},
     "output_type": "display_data"
    }
   ],
   "source": [
    "# Búsqueda\n",
    "import random\n",
    "import sys\n",
    "\n",
    "ax = plt.gca()\n",
    "ax.set_ylim([min(0, y.min() - y.std()), y.max() + y.std()])\n",
    "ax.set_xlim([X.Metros.min() - X.Metros.std(), X.Metros.max() + X.Metros.std()])\n",
    "\n",
    "\n",
    "# inicialización de variables\n",
    "j_min = float(\"inf\")\n",
    "best_w1 = 0\n",
    "history = []\n",
    "\n",
    "# número de iteraciones\n",
    "num_iter = 10000\n",
    "for it in range(0,num_iter):\n",
    "    phi1 = best_w1 + random.uniform(-1,1)\n",
    "    j = J(data.Metros, data.Precio, [phi1])\n",
    "\n",
    "    if j < j_min:\n",
    "        print (\"Mejora: %f (w1: %f)\" % (j, phi1))\n",
    "        j_min = j\n",
    "        best_w1 = phi1\n",
    "        history.append((best_w1))\n",
    "        \n",
    "\n",
    "plt.scatter(X.Metros, y, marker='+', color='r', s=200)\n",
    "for i, (p1) in enumerate(history[:-1]):\n",
    "    X_plot = np.linspace(ax.get_xlim()[0],ax.get_xlim()[1],100)\n",
    "    gray = 1- (i/(len(history)-1))\n",
    "\n",
    "    plt.plot(X_plot, X_plot*p1, '-', color=str(gray))\n",
    "\n",
    "\n",
    "# Add correlation line\n",
    "X_plot = np.linspace(ax.get_xlim()[0],ax.get_xlim()[1],100)\n",
    "plt.plot(X_plot, X_plot*best_w1, '-', linewidth=2)\n",
    "plt.show()"
   ]
  },
  {
   "cell_type": "markdown",
   "metadata": {},
   "source": [
    "## Implementación como una clase\n",
    "\n",
    "Vamos ahora a implementar lo anterior más seriamente. Vamos a hacer una clase para que ajuste un modelo de regresión lineal. Recordar el objetivo de una clase:\n",
    "    - Mantener el estado y definir que acciones se puede realizar sobre dicho estado\n"
   ]
  },
  {
   "cell_type": "code",
   "execution_count": 9,
   "metadata": {
    "collapsed": true
   },
   "outputs": [],
   "source": [
    "import numpy as np\n",
    "import random\n",
    "import sys\n",
    "\n",
    "class RegresionLineal:\n",
    "    \n",
    "    def __init__(self, learning_rate=100):\n",
    "        '''\n",
    "        Inicialización del modelo.\n",
    "        Parametros:\n",
    "          - learning_rate: define el desplazamiento máximo sobre los pesos en cada iteración.\n",
    "        '''\n",
    "        self.learning_rate = learning_rate\n",
    "    \n",
    "    def _H(self, X, w):\n",
    "        '''\n",
    "        Establece la hipótesis de la regresión lineal. Devuelve la evaluación de dicha hipótesis.\n",
    "        '''\n",
    "        raise Exception(\"No implement\")\n",
    "\n",
    "    def _J(self, X, y, w):\n",
    "        '''\n",
    "        Establece la función de coste y devuelve la evaluación de dicha función de coste\n",
    "        '''\n",
    "        raise Exception(\"No implement\")\n",
    "    \n",
    "    def fit(self, X, y, num_iter=100, verbose=True, plot=False):\n",
    "        '''\n",
    "        Lleva a cabo la búsqueda de los mejores pesos dado los datos de entrada X y la \n",
    "        variable respuesta y.\n",
    "        Parámetros:\n",
    "          - X: datos de entrada en formato de tabla. Cada fila corresponde a una muestra y cada columna a un atributo.\n",
    "          - y: variable de respuesta. Debe contener tantos elementos como filas tiene la entrada.\n",
    "          - num_iter: número de iteraciones que queremos ejecutar de algoritmo de búsqueda.\n",
    "          - verbose: si es True imprimirá por pantalla mensajes sobre el progreso\n",
    "          - plot: si es True mostrará un gráfico de la línea de regresión. Solo en el caso de tener un solo atributo.\n",
    "        '''\n",
    "        \n",
    "        # Comprobamos que el número de filas de la entrada corresponde con el número \n",
    "        # de elementos de la variable de respuesta\n",
    "        # ....\n",
    "        \n",
    "        # Usaremos esta lista para guardar el progreso del ajuste\n",
    "        # ....\n",
    "\n",
    "        # Establecemos el valor del coste al inicio lo mayor posible    \n",
    "        # ....\n",
    "        \n",
    "        # Inicializamos los pesos\n",
    "        # ....            \n",
    "        \n",
    "        # Bucle de iteraciones\n",
    "        # ....\n",
    "            # actualizamos los pesos aplicando el desfase de los pesos\n",
    "            # ....\n",
    "            \n",
    "            # calculamos el coste con los nuevos pesos\n",
    "            # ....\n",
    "\n",
    "            # si encontramos mejora, actualizamos el los pesos del modelo y guardamos \n",
    "            # la mejora en el histórico\n",
    "            # ....\n",
    "            \n",
    "        # si se pedido mostrar el gráfico del progreso y tenemos un solo atributo \n",
    "        # pintamos las rectas encontradas      \n",
    "        # ....        \n",
    "        \n",
    "        raise Exception(\"No implement\")\n",
    "            \n",
    "            \n",
    "    def predict(self, X):\n",
    "        '''\n",
    "        Realiza la predicción para los datos de entrada X\n",
    "        '''\n",
    "        raise Exception(\"No implement\")\n",
    "      "
   ]
  },
  {
   "cell_type": "markdown",
   "metadata": {},
   "source": [
    "Una posible implementación:"
   ]
  },
  {
   "cell_type": "code",
   "execution_count": 10,
   "metadata": {
    "collapsed": false
   },
   "outputs": [],
   "source": [
    "import numpy as np\n",
    "import random\n",
    "import sys\n",
    "\n",
    "\n",
    "class RegresionLineal:\n",
    "    \n",
    "    def __init__(self, learning_rate=100):\n",
    "        '''\n",
    "        Inicialización del modelo.\n",
    "        Parametros:\n",
    "          - learning_rate: define el desplazamiento máximo sobre los pesos en cada iteración.\n",
    "        '''\n",
    "        self.learning_rate = learning_rate\n",
    "        self.w = None\n",
    "       \n",
    "    \n",
    "    def _H(self, X, w):\n",
    "        '''\n",
    "        Establece la hipótesis de la regresión lineal. Devuelve la evaluación de dicha hipótesis.\n",
    "        '''\n",
    "        if len(X.shape) > 1:\n",
    "            return np.sum(X*np.array(w), axis=1)\n",
    "        else:\n",
    "            return X*np.array(w)\n",
    "\n",
    "    def _J(self, X, Y, w):\n",
    "        '''\n",
    "        Establece la función de coste y devuelve la evaluación de dicha función de coste\n",
    "        '''\n",
    "        return (0.5 / X.shape[0]) * sum((H(X, w) - y) ** 2)\n",
    "    \n",
    "   \n",
    "    def fit(self, X, y, num_iter=100, verbose=True, plot=False):\n",
    "        '''\n",
    "        Lleva a cabo la búsqueda de los mejores pesos dado los datos de entrada X y la \n",
    "        variable respuesta y.\n",
    "        Parámetros:\n",
    "          - X: datos de entrada en formato de tabla. Cada fila corresponde a una muestra y cada columna a un atributo.\n",
    "          - y: variable de respuesta. Debe contener tantos elementos como filas tiene la entrada.\n",
    "          - num_iter: número de iteraciones que queremos ejecutar de algoritmo de búsqueda.\n",
    "          - verbose: si es True imprimirá por pantalla mensajes sobre el progreso\n",
    "          - plot: si es True mostrará un gráfico de la línea de regresión. Solo en el caso de tener un solo atributo.\n",
    "        '''\n",
    "        \n",
    "        # Comprobamos que el número de filas de la entrada corresponde con el número \n",
    "        # de elementos de la variable de respuesta\n",
    "        if len(X) != len(y):\n",
    "            raise Exception(\"El número de filas de X y el número de elemento en y no se corresponden.\")\n",
    "\n",
    "        # Usaremos esta lista para guardar el progreso del ajuste\n",
    "        self.history = []\n",
    "\n",
    "        # Establecemos el valor del coste al inicio lo mayor posible    \n",
    "        j_min = float(\"inf\")\n",
    "        \n",
    "        # Inicializamos los pesos\n",
    "        num_attr = 1 if len(X.shape) == 1 else X.shape[0]\n",
    "        self.w = [.0] * num_attr\n",
    "        current_w = [.0] * num_attr\n",
    "            \n",
    "        \n",
    "        for it in range(0,num_iter):\n",
    "            # actualizamos los pesos aplicando el desfase de los pesos\n",
    "            for iattr in range(num_attr):\n",
    "                current_w[iattr] = self.w[iattr] + random.uniform(-self.learning_rate,self.learning_rate)\n",
    "            \n",
    "            # calculamos el coste con los nuevos pesos\n",
    "            j = self._J(X, y, current_w)\n",
    "\n",
    "            # si encontramos mejora, actualizamos el los pesos del modelo y guardamos \n",
    "            # la mejora en el histórico\n",
    "            if j < j_min:\n",
    "                if verbose:\n",
    "                    print (\"Mejora: %f (%s)\" % (j, current_w))\n",
    "                    \n",
    "                j_min = j\n",
    "                self.w = current_w[:]\n",
    "                self.history.append(current_w[:])\n",
    "\n",
    "        # si se ha pedido mostrar el gráfico del progreso y tenemos un solo atributo \n",
    "        # pintamos las rectas encontradas      \n",
    "        if plot and num_attr == 1:\n",
    "            axes = plt.gca()\n",
    "            axes.set_ylim([y.min() - y.std(), y.max() + y.std()])\n",
    "            axes.set_xlim([X.min() - X.std(), X.max() + X.std()])\n",
    "\n",
    "            plt.scatter(X, y, marker='+', color='r', s=200)\n",
    "            \n",
    "            for i, w in enumerate(self.history[:-1]):\n",
    "                X_plot = np.linspace(axes.get_xlim()[0],axes.get_xlim()[1],100)\n",
    "                gray = 1-i/(len(self.history)-1)\n",
    "                plt.plot(X_plot, self._H(X_plot, w), '-', color=str(gray))\n",
    "\n",
    "\n",
    "            # Add correlation line\n",
    "            X_plot = np.linspace(axes.get_xlim()[0],axes.get_xlim()[1],100)\n",
    "            plt.plot(X_plot, self._H(X_plot, self.w), '-', linewidth=2)\n",
    "\n",
    "            \n",
    "            plt.show()\n",
    "            \n",
    "    def predict(self, X):\n",
    "        '''\n",
    "        Realiza la predicción para los datos de entrada X\n",
    "        '''\n",
    "        if self.w is None:\n",
    "            raise Exception(\"El modelo no ha sido ajustado\")\n",
    "            \n",
    "        return self._H(X, self.w)\n"
   ]
  },
  {
   "cell_type": "code",
   "execution_count": 11,
   "metadata": {
    "collapsed": false
   },
   "outputs": [
    {
     "name": "stdout",
     "output_type": "stream",
     "text": [
      "Mejora: 23827.474178 ([0.03805072645561071])\n",
      "Mejora: 14657.913347 ([0.07641762309189244])\n",
      "Mejora: 8168.016027 ([0.11465390609335822])\n",
      "Mejora: 7773.974155 ([0.1176285227983721])\n",
      "Mejora: 4469.798308 ([0.15071665363068426])\n",
      "Mejora: 3200.637507 ([0.1989926003722597])\n",
      "Mejora: 3184.369701 ([0.18077927420597228])\n",
      "Mejora: 3143.615596 ([0.18399684269759986])\n",
      "Mejora: 3128.868998 ([0.1858144289771387])\n",
      "Mejora: 3117.444397 ([0.18979744251028913])\n",
      "Mejora: 3117.375975 ([0.18968983558069602])\n",
      "Mejora: 3117.330669 ([0.18958845130265564])\n",
      "Mejora: 3117.303378 ([0.18948367323365978])\n",
      "Mejora: 3117.299243 ([0.1893301936939727])\n",
      "Mejora: 3117.296044 ([0.18937510492423432])\n",
      "Mejora: 3117.295865 ([0.1894014137654321])\n"
     ]
    },
    {
     "data": {
      "image/png": "[encoded data removed]",
      "text/plain": [
       "<matplotlib.figure.Figure at 0x7f5637120390>"
      ]
     },
     "metadata": {},
     "output_type": "display_data"
    }
   ],
   "source": [
    "reg = RegresionLineal(learning_rate=0.05)\n",
    "reg.fit(data.Metros, data.Precio, num_iter=10000, plot=True)"
   ]
  },
  {
   "cell_type": "markdown",
   "metadata": {},
   "source": [
    "## Serialización de objetos\n",
    "\n",
    "Una de las cosas más interesantes al tener nuestro modelo creado en un clase es que lo podemos guardar a disco y utlizarlo posteriomente:"
   ]
  },
  {
   "cell_type": "code",
   "execution_count": 87,
   "metadata": {
    "collapsed": false
   },
   "outputs": [],
   "source": [
    "import pickle as pk\n",
    "pk.dump(reg, open(\"rl.pk\", \"wb\"))"
   ]
  },
  {
   "cell_type": "markdown",
   "metadata": {},
   "source": [
    "Ahora lo podemos leer:"
   ]
  },
  {
   "cell_type": "code",
   "execution_count": 88,
   "metadata": {
    "collapsed": false
   },
   "outputs": [
    {
     "data": {
      "text/plain": [
       "<__main__.RegresionLineal at 0x7fd5e6887c88>"
      ]
     },
     "execution_count": 88,
     "metadata": {},
     "output_type": "execute_result"
    }
   ],
   "source": [
    "my_reg = pk.load(open(\"rl.pk\", \"rb\"))\n",
    "my_reg"
   ]
  },
  {
   "cell_type": "markdown",
   "metadata": {},
   "source": [
    "Y podemos consultar sus atributos:"
   ]
  },
  {
   "cell_type": "code",
   "execution_count": 89,
   "metadata": {
    "collapsed": false
   },
   "outputs": [
    {
     "data": {
      "text/plain": [
       "[0.18938652891919872]"
      ]
     },
     "execution_count": 89,
     "metadata": {},
     "output_type": "execute_result"
    }
   ],
   "source": [
    "my_reg.w"
   ]
  },
  {
   "cell_type": "code",
   "execution_count": 90,
   "metadata": {
    "collapsed": false
   },
   "outputs": [
    {
     "data": {
      "text/plain": [
       "[[-0.03615436164139694],\n",
       " [0.010588161859205254],\n",
       " [0.03212417698991247],\n",
       " [0.060657015952194006],\n",
       " [0.08460506520772079],\n",
       " [0.09084692791078106],\n",
       " [0.14020313740295742],\n",
       " [0.18044012686912525],\n",
       " [0.193648687738352],\n",
       " [0.1884133513702123],\n",
       " [0.19025614614881176],\n",
       " [0.18875504677948862],\n",
       " [0.189170378846558],\n",
       " [0.18931896913930774],\n",
       " [0.18944199377159815],\n",
       " [0.18937858290608697],\n",
       " [0.18938215628941418],\n",
       " [0.18938652891919872]]"
      ]
     },
     "execution_count": 90,
     "metadata": {},
     "output_type": "execute_result"
    }
   ],
   "source": [
    "my_reg.history"
   ]
  },
  {
   "cell_type": "markdown",
   "metadata": {},
   "source": [
    "## La intercepción"
   ]
  },
  {
   "cell_type": "markdown",
   "metadata": {},
   "source": [
    "La implementación anterior no tiene en cuenta la intercepción de la línea de regresión con el eje X. Este puede ser implementado introduciendo un atributo ficticio con valor 1:"
   ]
  },
  {
   "cell_type": "code",
   "execution_count": 12,
   "metadata": {
    "collapsed": false
   },
   "outputs": [
    {
     "name": "stdout",
     "output_type": "stream",
     "text": [
      "Mejora: 798613.554247 ([-0.7481200292913239, -0.6489659505837218])\n",
      "Mejora: 11566.442229 ([0.09260789527775515, 0.1432992261803745])\n",
      "Mejora: 8303.799252 ([0.2648884476258022, 0.4967117736747275])\n",
      "Mejora: 3418.048202 ([0.20776732951881982, 1.3469809818365723])\n",
      "Mejora: 3278.909522 ([0.17304663212271953, 1.7536064579694837])\n",
      "Mejora: 3089.726553 ([0.19030564272702244, 1.1411931093696408])\n",
      "Mejora: 3089.327801 ([0.19123603687239132, 1.3156087864135877])\n",
      "Mejora: 3082.370074 ([0.1913559033031833, 1.6499018319526648])\n",
      "Mejora: 3082.279863 ([0.18938420738903616, 1.3551899161922114])\n",
      "Mejora: 3075.219919 ([0.1851758157256056, 1.8934314324435213])\n",
      "Mejora: 3072.431454 ([0.18670937670221832, 1.7778566027239855])\n",
      "Mejora: 3065.913962 ([0.18472012006025285, 2.288937913418503])\n",
      "Mejora: 3047.263557 ([0.1909033984130284, 3.121212436950896])\n",
      "Mejora: 3045.201169 ([0.18986523390790766, 2.9569580633049446])\n",
      "Mejora: 3026.796535 ([0.1897214162703058, 3.7383068856784596])\n",
      "Mejora: 2995.157138 ([0.18502136892759036, 4.728652118971465])\n",
      "Mejora: 2987.749308 ([0.183793516554273, 5.1291736611256855])\n",
      "Mejora: 2968.957834 ([0.18675243819860388, 5.758872871463076])\n",
      "Mejora: 2952.742891 ([0.18426556614228784, 6.364668017450095])\n",
      "Mejora: 2949.349110 ([0.18814618870012745, 6.888520967148686])\n",
      "Mejora: 2934.054507 ([0.1814662636260278, 7.386576925815412])\n",
      "Mejora: 2923.310732 ([0.1818133505120214, 7.70586623027727])\n",
      "Mejora: 2900.116197 ([0.1830341344437536, 8.44267228810586])\n",
      "Mejora: 2888.292213 ([0.18640642905672533, 9.29392602488187])\n",
      "Mejora: 2883.760268 ([0.18807218542682658, 10.217648292391681])\n",
      "Mejora: 2855.643678 ([0.17672366880369816, 11.175825543254458])\n",
      "Mejora: 2819.693276 ([0.18002652929401974, 11.751484098608296])\n",
      "Mejora: 2801.552812 ([0.18316718922830577, 12.616163890993281])\n",
      "Mejora: 2792.016458 ([0.18041933926589793, 12.815709941340828])\n"
     ]
    },
    {
     "data": {
      "image/png": "[encoded data removed]",
      "text/plain": [
       "<matplotlib.figure.Figure at 0x7f56288a9c88>"
      ]
     },
     "metadata": {},
     "output_type": "display_data"
    }
   ],
   "source": [
    "import numpy as np\n",
    "import random\n",
    "import sys\n",
    "\n",
    "class RegresionLineal:\n",
    "    \n",
    "    def __init__(self, learning_rate=100, fit_intercept=False):\n",
    "        '''\n",
    "        Inicialización del modelo.\n",
    "        Parametros:\n",
    "          - learning_rate: define el desplazamiento máximo sobre los pesos en cada iteración.\n",
    "        '''\n",
    "        self.learning_rate = learning_rate\n",
    "        self.fit_intercept = fit_intercept\n",
    "        self.w = None\n",
    "       \n",
    "    \n",
    "    def _H(self, X, w):\n",
    "        '''\n",
    "        Establece la hipótesis de la regresión lineal. Devuelve la evaluación de dicha hipótesis.\n",
    "        '''\n",
    "        if len(X.shape) > 1:\n",
    "            return np.sum(X*np.array(w), axis=1)\n",
    "        else:\n",
    "            return X*np.array(w)\n",
    "\n",
    "    def _J(self, X, Y, w):\n",
    "        '''\n",
    "        Establece la función de coste y devuelve la evaluación de dicha función de coste\n",
    "        '''\n",
    "        return (0.5 / X.shape[0]) * sum((H(X, w) - y) ** 2)\n",
    "    \n",
    "   \n",
    "    def fit(self, X, y, num_iter=100, verbose=True, plot=False):\n",
    "        '''\n",
    "        Lleva a cabo la búsqueda de los mejores pesos dado los datos de entrada X y la \n",
    "        variable respuesta y.\n",
    "        Parámetros:\n",
    "          - X: datos de entrada en formato de tabla. Cada fila corresponde a una muestra y cada columna a un atributo.\n",
    "          - y: variable de respuesta. Debe contener tantos elementos como filas tiene la entrada.\n",
    "          - num_iter: número de iteraciones que queremos ejecutar de algoritmo de búsqueda.\n",
    "          - verbose: si es True imprimirá por pantalla mensajes sobre el progreso\n",
    "          - plot: si es True mostrará un gráfico de la línea de regresión. Solo en el caso de tener un solo atributo.\n",
    "        '''\n",
    "        \n",
    "        # Comprobamos que el número de filas de la entrada corresponde con el número \n",
    "        # de elementos de la variable de respuesta\n",
    "        if len(X) != len(y):\n",
    "            raise Exception(\"El número de filas de X y el número de elemento en y no se corresponden.\")\n",
    "\n",
    "        if type(X) is pd.DataFrame:\n",
    "            X = X.values\n",
    "        \n",
    "        if len(X.shape) == 1:\n",
    "            X = X.reshape(X.shape[0],1)\n",
    "\n",
    "        # Si se quiere ajustar la intercepción debemos introducir un nuevo atributo ficticio\n",
    "        if self.fit_intercept:\n",
    "            X = np.hstack((X, np.array([1.] * X.shape[0]).reshape(X.shape[0],1)))\n",
    "        \n",
    "            \n",
    "        # Usaremos esta lista para guardar el progreso del ajuste\n",
    "        self.history = []\n",
    "\n",
    "        # Establecemos el valor del coste al inicio lo mayor posible    \n",
    "        j_min = float(\"inf\")\n",
    "        \n",
    "        # Inicializamos los pesos\n",
    "        num_attr = 1 if len(X.shape) == 1 else X.shape[1]\n",
    "        self.w = [.0] * num_attr\n",
    "        current_w = [.0] * num_attr\n",
    "            \n",
    "        \n",
    "        for it in range(0,num_iter):\n",
    "            # actualizamos los pesos aplicando el desfase de los pesos\n",
    "            for iattr in range(num_attr):\n",
    "                current_w[iattr] = self.w[iattr] + random.uniform(-self.learning_rate,self.learning_rate)\n",
    "            \n",
    "            # calculamos el coste con los nuevos pesos\n",
    "            j = self._J(X, y, current_w)\n",
    "\n",
    "            # si encontramos mejora, actualizamos el los pesos del modelo y guardamos \n",
    "            # la mejora en el histórico\n",
    "            if j < j_min:\n",
    "                if verbose:\n",
    "                    print (\"Mejora: %f (%s)\" % (j, current_w))\n",
    "                    \n",
    "                j_min = j\n",
    "                self.w = current_w[:]\n",
    "                self.history.append(current_w[:])\n",
    "\n",
    "        # si se ha pedido mostrar el gráfico del progreso y tenemos un solo atributo \n",
    "        # pintamos las rectas encontradas      \n",
    "        if plot and (num_attr == 1 or num_attr == 2 and self.fit_intercept):\n",
    "            axes = plt.gca()\n",
    "            axes.set_ylim([min(0, y.min() - y.std()), y.max() + y.std()])\n",
    "            axes.set_xlim([min(0, X.min() - X.std()), X.max() + X.std()])\n",
    "            \n",
    "            for i, w in enumerate(self.history[:-1]):\n",
    "                X_plot = np.linspace(axes.get_xlim()[0],axes.get_xlim()[1],100)\n",
    "                if self.fit_intercept:\n",
    "                    X_plot = np.hstack((X_plot.reshape(X_plot.shape[0],1), \n",
    "                                        np.array([1.] * X_plot.shape[0]).reshape(X_plot.shape[0],1)))\n",
    "                    \n",
    "                gray = 1-i/(len(self.history)-1)\n",
    "                plt.plot(X_plot, self._H(X_plot, w), '-', color=str(gray))\n",
    "\n",
    "\n",
    "            # Add correlation line\n",
    "            X_plot = np.linspace(axes.get_xlim()[0],axes.get_xlim()[1],100)\n",
    "            if self.fit_intercept:\n",
    "                X_plot = np.hstack((X_plot.reshape(X_plot.shape[0],1), \n",
    "                                    np.array([1.] * X_plot.shape[0]).reshape(X_plot.shape[0],1)))\n",
    "\n",
    "            plt.plot(X_plot, self._H(X_plot, self.w), '-', linewidth=2)\n",
    "\n",
    "            if self.fit_intercept:\n",
    "                plt.scatter(X[:, :-1], y, marker='+', color='r', s=200)\n",
    "            else:\n",
    "                plt.scatter(X, y, marker='+', color='r', s=200)\n",
    "\n",
    "            \n",
    "            plt.show()\n",
    "            \n",
    "    def predict(self, X):\n",
    "        '''\n",
    "        Realiza la predicción para los datos de entrada X\n",
    "        '''\n",
    "        if self.w is None:\n",
    "            raise Exception(\"El modelo no ha sido ajustado\")\n",
    "            \n",
    "        return self._H(X, self.w)\n",
    "    \n",
    "reg = RegresionLineal(learning_rate=1, fit_intercept=True)\n",
    "reg.fit(X.Metros, data.Precio, num_iter=10000, plot=True)"
   ]
  }
 ],
 "metadata": {
  "anaconda-cloud": {},
  "kernelspec": {
   "display_name": "Python 3",
   "language": "python",
   "name": "python3"
  },
  "language_info": {
   "codemirror_mode": {
    "name": "ipython",
    "version": 3
   },
   "file_extension": ".py",
   "mimetype": "text/x-python",
   "name": "python",
   "nbconvert_exporter": "python",
   "pygments_lexer": "ipython3",
   "version": "3.4.3"
  }
 },
 "nbformat": 4,
 "nbformat_minor": 0
}
